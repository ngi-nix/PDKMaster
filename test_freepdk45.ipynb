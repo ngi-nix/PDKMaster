{
 "cells": [
  {
   "cell_type": "code",
   "execution_count": null,
   "metadata": {},
   "outputs": [],
   "source": [
    "from pdkmaster.techs import freepdk45"
   ]
  },
  {
   "cell_type": "code",
   "execution_count": null,
   "metadata": {},
   "outputs": [],
   "source": [
    "print(\"Design layers:\")\n",
    "for mask in freepdk45.tech.designmasks:\n",
    "    print(\"- \" + mask.name)\n",
    "print(\"Primitives:\")\n",
    "for prim in freepdk45.tech.primitives:\n",
    "    print(\"- \" + prim.name)\n",
    "print(\"Rules:\")\n",
    "for s in sorted(str(rule) for rule in freepdk45.tech.rules):\n",
    "    print(\"- \" + s)"
   ]
  },
  {
   "cell_type": "code",
   "execution_count": null,
   "metadata": {},
   "outputs": [],
   "source": []
  }
 ],
 "metadata": {
  "kernelspec": {
   "display_name": "Python 3",
   "language": "python",
   "name": "python3"
  },
  "language_info": {
   "codemirror_mode": {
    "name": "ipython",
    "version": 3
   },
   "file_extension": ".py",
   "mimetype": "text/x-python",
   "name": "python",
   "nbconvert_exporter": "python",
   "pygments_lexer": "ipython3",
   "version": "3.7.6"
  }
 },
 "nbformat": 4,
 "nbformat_minor": 4
}
