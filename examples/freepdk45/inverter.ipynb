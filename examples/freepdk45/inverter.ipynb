{
 "metadata": {
  "language_info": {
   "codemirror_mode": {
    "name": "ipython",
    "version": 3
   },
   "file_extension": ".py",
   "mimetype": "text/x-python",
   "name": "python",
   "nbconvert_exporter": "python",
   "pygments_lexer": "ipython3",
   "version": "3.7.7-final"
  },
  "orig_nbformat": 2,
  "kernelspec": {
   "name": "python3",
   "display_name": "Python 3"
  }
 },
 "nbformat": 4,
 "nbformat_minor": 2,
 "cells": [
  {
   "cell_type": "markdown",
   "metadata": {},
   "source": [
    "# Example notebook with a FreePDK45 inverter\n",
    "\n",
    "This needs to have the pdkmaster code installed in the environment where this notebook is executed."
   ]
  },
  {
   "cell_type": "code",
   "execution_count": null,
   "metadata": {
    "tags": []
   },
   "outputs": [],
   "source": [
    "from matplotlib import pyplot, ticker\n",
    "\n",
    "from pdkmaster.design import layout as lay, circuit as ckt\n",
    "from pdkmaster.techs.freepdk45 import tech, layoutfab, cktfab\n",
    "\n",
    "nmos = tech.primitives.nmos_vtg\n",
    "pmos = tech.primitives.pmos_vtg"
   ]
  },
  {
   "cell_type": "code",
   "execution_count": null,
   "metadata": {},
   "outputs": [],
   "source": [
    "# TODO: this should be defined by the technology\n",
    "plotting = lay.Plotter({\n",
    "    \"pwell\": {\"fc\": (1.0, 1.0, 0.0, 0.2), \"ec\": \"orange\", \"zorder\": 10},\n",
    "    \"nwell\": {\"fc\": (0.0, 0.0, 0.0, 0.1), \"ec\": \"grey\", \"zorder\": 10},\n",
    "    \"active\": {\"fc\": \"lawngreen\", \"ec\": \"lawngreen\", \"zorder\": 11},\n",
    "    \"poly\": {\"fc\": \"red\", \"ec\": \"red\", \"zorder\": 12},\n",
    "    \"nimplant\": {\"fc\": \"purple\", \"ec\": \"purple\", \"alpha\": 0.3, \"zorder\": 13},\n",
    "    \"pimplant\": {\"fc\": \"blueviolet\", \"ec\": \"blueviolet\", \"alpha\": 0.3, \"zorder\": 13},\n",
    "    \"vthg\": {\"fc\": (0.0, 0.0, 0.0, 0.0), \"ec\": \"grey\", \"zorder\": 13},\n",
    "    \"vthl\": {\"fc\": (1, 1, 1, 0.3), \"ec\": \"whitesmoke\", \"zorder\": 13},\n",
    "    \"vthh\": {\"fc\": (0.0, 0.0, 0.0, 0.2), \"ec\": \"dimgrey\", \"zorder\": 13},\n",
    "})"
   ]
  },
  {
   "cell_type": "code",
   "execution_count": null,
   "metadata": {
    "tags": []
   },
   "outputs": [],
   "source": [
    "l_n = nmos.computed.min_l\n",
    "l_p = pmos.computed.min_l\n",
    "w_n = nmos.computed.min_w\n",
    "w_p = 2*w_n\n",
    "\n",
    "# TODO: Use packer to derive minimal placement of p transistor\n",
    "impl_n_enc = nmos.min_gateimplant_enclosure[0] # This is not generic yet\n",
    "impl_p_enc = pmos.min_gateimplant_enclosure[0] # This is not generic yet\n",
    "y_p = 0.5*w_n + impl_n_enc + impl_p_enc + 0.5*w_p\n",
    "\n",
    "# Create the circuit\n",
    "inv = cktfab.new_circuit(\"inverter\")\n",
    "n1 = inv.new_instance(\"n1\", nmos, l=l_n, w=w_n)\n",
    "p1 = inv.new_instance(\"p1\", pmos, l=l_p, w=w_p)\n",
    "in_ = inv.new_net(\"IN\", external=True)\n",
    "out = inv.new_net(\"OUT\", external=True)\n",
    "vdd = inv.new_net(\"VDD\", external=True)\n",
    "gnd = inv.new_net(\"GND\", external=True)\n",
    "in_.childports += (n1.ports.gate, p1.ports.gate)\n",
    "out.childports += (n1.ports.sourcedrain1, p1.ports.sourcedrain1)\n",
    "gnd.childports += (n1.ports.sourcedrain2, n1.ports.bulk)\n",
    "vdd.childports += (p1.ports.sourcedrain2, p1.ports.bulk)\n",
    "\n",
    "# Create layout\n",
    "placer = ckt.CircuitLayouter(inv)\n",
    "placer.place(n1, x=0.0, y=0.0)\n",
    "placer.place(p1, x=0.0, y=y_p)\n",
    "\n",
    "pyplot.figure(figsize=(4.0, 7.0))\n",
    "\n",
    "plotting.plot(inv.layout)\n",
    "\n",
    "ax = pyplot.gca()\n",
    "ax.set_title(\"inverter\")\n",
    "ax.xaxis.set_major_locator(ticker.MultipleLocator(0.1))\n",
    "ax.yaxis.set_major_locator(ticker.MultipleLocator(0.1))\n",
    "ax.axis(\"square\")\n",
    "ax.axis(\"equal\")\n",
    "ax.axis([-0.2, 0.2, -0.2, 0.5])\n",
    "ax.grid(\"on\")\n",
    "\n",
    "pyplot.show()"
   ]
  },
  {
   "cell_type": "code",
   "execution_count": null,
   "metadata": {},
   "outputs": [],
   "source": []
  }
 ]
}