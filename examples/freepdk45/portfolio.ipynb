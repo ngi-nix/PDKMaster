{
 "metadata": {
  "language_info": {
   "codemirror_mode": {
    "name": "ipython",
    "version": 3
   },
   "file_extension": ".py",
   "mimetype": "text/x-python",
   "name": "python",
   "nbconvert_exporter": "python",
   "pygments_lexer": "ipython3",
   "version": "3.7.7-final"
  },
  "orig_nbformat": 2,
  "kernelspec": {
   "name": "python3",
   "display_name": "Python 3"
  }
 },
 "nbformat": 4,
 "nbformat_minor": 2,
 "cells": [
  {
   "cell_type": "code",
   "execution_count": null,
   "metadata": {},
   "outputs": [],
   "source": [
    "import shapely.geometry as sh_geo\n",
    "from matplotlib import pyplot, ticker\n",
    "\n",
    "from pdkmaster.technology import primitive as prm\n",
    "from pdkmaster.design import layout as lay\n",
    "from pdkmaster.techs.freepdk45 import tech, layoutfab, cktfab"
   ]
  },
  {
   "cell_type": "code",
   "execution_count": null,
   "metadata": {},
   "outputs": [],
   "source": [
    "# TODO: this should be defined by the technology\n",
    "plotting = lay.Plotter({\n",
    "    \"pwell\": {\"fc\": (1.0, 1.0, 0.0, 0.2), \"ec\": \"orange\", \"zorder\": 10},\n",
    "    \"nwell\": {\"fc\": (0.0, 0.0, 0.0, 0.1), \"ec\": \"grey\", \"zorder\": 10},\n",
    "    \"active\": {\"fc\": \"lawngreen\", \"ec\": \"lawngreen\", \"zorder\": 11},\n",
    "    \"poly\": {\"fc\": \"red\", \"ec\": \"red\", \"zorder\": 12},\n",
    "    \"nimplant\": {\"fc\": \"purple\", \"ec\": \"purple\", \"alpha\": 0.3, \"zorder\": 13},\n",
    "    \"pimplant\": {\"fc\": \"blueviolet\", \"ec\": \"blueviolet\", \"alpha\": 0.3, \"zorder\": 13},\n",
    "    \"vthg\": {\"fc\": (0.0, 0.0, 0.0, 0.0), \"ec\": \"grey\", \"zorder\": 13},\n",
    "    \"vthl\": {\"fc\": (1, 1, 1, 0.3), \"ec\": \"whitesmoke\", \"zorder\": 13},\n",
    "    \"vthh\": {\"fc\": (0.0, 0.0, 0.0, 0.2), \"ec\": \"dimgrey\", \"zorder\": 13},\n",
    "})"
   ]
  },
  {
   "cell_type": "code",
   "execution_count": null,
   "metadata": {},
   "outputs": [],
   "source": [
    "pyplot.figure(figsize=(9.0,9.0))\n",
    "\n",
    "for i, mos in enumerate(tech.primitives.tt_iter_type(prm.MOSFET)):\n",
    "    ax = pyplot.subplot(3,3,i+1)\n",
    "    plotting.plot(layoutfab.new_layout(mos))\n",
    "\n",
    "    ax.set_title(mos.name)\n",
    "    ax.xaxis.set_major_locator(ticker.MultipleLocator(0.1))\n",
    "    ax.yaxis.set_major_locator(ticker.MultipleLocator(0.1))\n",
    "    ax.axis(\"square\")\n",
    "    ax.axis(\"equal\")\n",
    "    ax.axis([-0.2, 0.2, -0.2, 0.2])\n",
    "    ax.grid(\"on\")\n",
    "\n",
    "pyplot.show()"
   ]
  },
  {
   "cell_type": "code",
   "execution_count": null,
   "metadata": {},
   "outputs": [],
   "source": []
  }
 ]
}